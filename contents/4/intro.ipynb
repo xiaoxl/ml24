{
  "cells": [
    {
      "cell_type": "markdown",
      "metadata": {},
      "source": [
        "# Ensemble methods\n",
        "\n",
        "After we get some relatively simple classifiers (sometimes also called *weak classifiers*), we might put them together to form a more complicated classifier. This type of methods is called an *ensemble method*. The basic way to ``ensemble'' classifiers together to through the voting machine.\n",
        "\n",
        "There are mainly two ways to generate many classifiers.\n",
        "\n",
        "- `bagging`: This is also called *bootstrap aggregating*. The idea is \n",
        "  - First we randomly pick samples from the original dataset to form a bunch of new trainning datasets;\n",
        "  - Then we apply the same learning methods to those trainning datasets to get a bunch of classifiers;\n",
        "  - Finally apply all these classifiers to the data we are interested in and use the most frequent class as the result.\n",
        "- `boosting`: There are a bunch of classifiers. We assign weights to each of the classifiers and change the weights adaptively according to the results of the current combination.\n",
        "\n",
        "\n",
        "\n",
        "\n",
        "\n",
        "\n",
        "## Bootstrap aggregating\n",
        "\n",
        "### Basic bagging\n",
        "One approach to get many estimators is to use the same training algorithm for every predictor and train them on different random subsets of the training set. When sampling is performed with replacement, this method is called *bagging* (short for *bootstrap aggregating*). When sampling is performed without replacement, it is called *pasting*.\n",
        "\n",
        "Consider the following example. The dataset is the one we used in Chpater 3: `make_moon`. We split the dataset into training and test sets.\n"
      ],
      "id": "178acba0"
    },
    {
      "cell_type": "code",
      "metadata": {},
      "source": [
        "from sklearn.datasets import make_moons\n",
        "import matplotlib.pyplot as plt\n",
        "from sklearn.model_selection import train_test_split\n",
        "\n",
        "X, y = make_moons(n_samples=10000, noise=0.4, random_state=42)\n",
        "plt.scatter(x=X[:, 0], y=X[:, 1], c=y)\n",
        "X_train, X_test, y_train, y_test = train_test_split(X, y, test_size=0.15)"
      ],
      "id": "4c57730a",
      "execution_count": null,
      "outputs": []
    },
    {
      "cell_type": "markdown",
      "metadata": {},
      "source": [
        "We would like to sample from the dataset to get some smaller minisets. We will use `sklearn.model_selection.ShuffleSplit` to perform the action. \n",
        "\n",
        "The output of `ShuffleSplit` is a generator. To get the index out of it we need a `for` loop. You may check out the following code. \n",
        "\n",
        "Note that `ShuffleSplit` is originally used to shuffle data into training and test sets. We would only use the shuffle function out of it, so we will set `test_size` to be `1` and use `_` later in the `for` loop since we won't use that part of the information.\n",
        "\n",
        "What we finally get is a generator `rs` that produces indexes of subsets of `X_train` and `y_train`. \n"
      ],
      "id": "a620abe5"
    },
    {
      "cell_type": "code",
      "metadata": {},
      "source": [
        "from sklearn.model_selection import ShuffleSplit\n",
        "n_trees = 1000\n",
        "n_instances = 100\n",
        "rs = ShuffleSplit(n_splits=n_trees, test_size=1, train_size=n_instances).split(X_train)"
      ],
      "id": "f344b3c4",
      "execution_count": null,
      "outputs": []
    },
    {
      "cell_type": "markdown",
      "metadata": {},
      "source": [
        "Now we would like to generate a list of Decision Trees. We could use the hyperparameters we get from Chapter 3. We train each tree over a certain mini set, and then evaluate the trained model over the test set. The average accuracy is around 80%.\n",
        "\n",
        "Note that `rs` is a generator. We put it in a for loop, and during each loop it will produce a list of indexes which gives a subset. We will directly train our model over the subset and use it to predict the test set. The result of each tree is put in the list `y_pred_list` and the accuracy is stored in the list `acc_list`. The mean of the accuracy is then computed by `np.mean(acc_list)`."
      ],
      "id": "c2d17eed"
    },
    {
      "cell_type": "code",
      "metadata": {},
      "source": [
        "from sklearn.tree import DecisionTreeClassifier\n",
        "from sklearn.metrics import accuracy_score\n",
        "import numpy as np\n",
        "\n",
        "y_pred_list = list()\n",
        "acc_list = list()\n",
        "for mini_train_index, _ in rs:\n",
        "    X_subset = X_train[mini_train_index]\n",
        "    y_subset = y_train[mini_train_index]\n",
        "    clf_ind = DecisionTreeClassifier(min_samples_split=2, max_leaf_nodes=17)\n",
        "    clf_ind.fit(X_subset, y_subset)\n",
        "    y_pred = clf_ind.predict(X_test)\n",
        "    y_pred_list.append(y_pred)\n",
        "    acc_list.append(accuracy_score(y_pred, y_test))\n",
        "\n",
        "np.mean(acc_list)"
      ],
      "id": "8cf35979",
      "execution_count": null,
      "outputs": []
    },
    {
      "cell_type": "markdown",
      "metadata": {},
      "source": [
        "Now for each test data, we actually have `n_trees=1000` predicted results. We can treat it as the options from 1000 exports and would like to use the majority as our result. For this purpose we would like to use `mode()` which will find the most frequent entry.\n"
      ],
      "id": "cf71740d"
    },
    {
      "cell_type": "code",
      "metadata": {},
      "source": [
        "from scipy.stats import mode\n",
        "voting = np.array(y_pred_list)\n",
        "y_pred_mode, _ = mode(voting, axis=0, keepdims=False)"
      ],
      "id": "dd716162",
      "execution_count": null,
      "outputs": []
    },
    {
      "cell_type": "markdown",
      "metadata": {},
      "source": [
        "Since the output of `mode` is a tuple where the first entry is a 2D array, we need to reshape `y_pred_mode`. This is the result using this voting system. Then we are able to compute the accuracy, and find that it is increased from the previous prediction.\n"
      ],
      "id": "31af3d6c"
    },
    {
      "cell_type": "code",
      "metadata": {},
      "source": [
        "accuracy_score(y_pred_mode, y_test)"
      ],
      "id": "e5111d09",
      "execution_count": null,
      "outputs": []
    },
    {
      "cell_type": "markdown",
      "metadata": {},
      "source": [
        "### Some rough analysis\n",
        "The point of `Bagging` is to let every classifier study part of the data, and then gather the opinions from everyone. If the performance are almost the same between individual classifers and the Bagging classifiers, this means that the majority of the individual classifiers have the same opinions. One possible reason is that the randomized subsets already catch the main features of the dataset that every individual classifiers behave similar.\n",
        "\n",
        "#### Case 1\n",
        "Let us continue with the previous dataset. We start from using Decision Tree with `max_depth=1`. In other words each tree only split once.\n"
      ],
      "id": "d4b5a226"
    },
    {
      "cell_type": "code",
      "metadata": {},
      "source": [
        "n_trees = 500\n",
        "n_instances = 1000\n",
        "rs = ShuffleSplit(n_splits=n_trees, test_size=1, train_size=n_instances).split(X_train)\n",
        "y_pred_list = list()\n",
        "acc_list = list()\n",
        "for mini_train_index, _ in rs:\n",
        "    X_subset = X_train[mini_train_index]\n",
        "    y_subset = y_train[mini_train_index]\n",
        "    clf_ind = DecisionTreeClassifier(max_depth=1)\n",
        "    clf_ind.fit(X_subset, y_subset)\n",
        "    y_pred = clf_ind.predict(X_test)\n",
        "    y_pred_list.append(y_pred)\n",
        "    acc_list.append(accuracy_score(y_pred, y_test))\n",
        "print('The mean of individual accuracy: {}'.format(np.mean(acc_list)))\n",
        "\n",
        "voting = np.array(y_pred_list)\n",
        "y_pred_mode, _ = mode(voting, axis=0, keepdims=False)\n",
        "print('The accuracy of the bagging classifier: {}'.format(accuracy_score(y_pred_mode, y_test)))"
      ],
      "id": "e95c4e1f",
      "execution_count": null,
      "outputs": []
    },
    {
      "cell_type": "markdown",
      "metadata": {},
      "source": [
        "The two accuracy has some differences, but not much. This is due to the fact that the sample size of the subset is too large: 1000 can already help the individual classifers to capture the major ideas of the datasets. Let us see the first 1000 data points. The scattering plot is very similar to that of the whole dataset shown above.\n"
      ],
      "id": "fc452d62"
    },
    {
      "cell_type": "code",
      "metadata": {},
      "source": [
        "Npiece = 1000\n",
        "plt.scatter(x=X[:Npiece, 0], y=X[:Npiece, 1], c=y[:Npiece])"
      ],
      "id": "c5eaf3bb",
      "execution_count": null,
      "outputs": []
    },
    {
      "cell_type": "markdown",
      "metadata": {},
      "source": [
        "#### Case 2\n",
        "If we reduce the sample size to be very small, for example, 20, the sampled subset will lose a lot of information and it will be much harder to capture the idea of the original dataset. See the scattering plot of the first 20 data points.\n"
      ],
      "id": "db011baf"
    },
    {
      "cell_type": "code",
      "metadata": {},
      "source": [
        "Npiece = 20\n",
        "plt.scatter(x=X[:Npiece, 0], y=X[:Npiece, 1], c=y[:Npiece])"
      ],
      "id": "25f3e509",
      "execution_count": null,
      "outputs": []
    },
    {
      "cell_type": "markdown",
      "metadata": {},
      "source": [
        "In this case, let us see the performance comparison between multiple decision trees and the bagging classifier.\n"
      ],
      "id": "9d4effd4"
    },
    {
      "cell_type": "code",
      "metadata": {},
      "source": [
        "n_trees = 500\n",
        "n_instances = 20\n",
        "rs = ShuffleSplit(n_splits=n_trees, test_size=1, train_size=n_instances).split(X_train)\n",
        "y_pred_list = list()\n",
        "acc_list = list()\n",
        "for mini_train_index, _ in rs:\n",
        "    X_subset = X_train[mini_train_index]\n",
        "    y_subset = y_train[mini_train_index]\n",
        "    clf_ind = DecisionTreeClassifier(max_depth=1)\n",
        "    clf_ind.fit(X_subset, y_subset)\n",
        "    y_pred = clf_ind.predict(X_test)\n",
        "    y_pred_list.append(y_pred)\n",
        "    acc_list.append(accuracy_score(y_pred, y_test))\n",
        "print('The mean of individual accuracy: {}'.format(np.mean(acc_list)))\n",
        "\n",
        "voting = np.array(y_pred_list)\n",
        "y_pred_mode, _ = mode(voting, axis=0, keepdims=False)\n",
        "print('The accuracy of the bagging classifier: {}'.format(accuracy_score(y_pred_mode, y_test)))"
      ],
      "id": "d04b8867",
      "execution_count": null,
      "outputs": []
    },
    {
      "cell_type": "markdown",
      "metadata": {},
      "source": [
        "This time you may see a significant increase in the performance.\n",
        "\n",
        "\n",
        "### Using `sklearn`\n",
        "\n",
        "`sklearn` provides `BaggingClassifier` to directly perform bagging or pasting. The code is as follows.\n"
      ],
      "id": "275fbd27"
    },
    {
      "cell_type": "code",
      "metadata": {},
      "source": [
        "from sklearn.ensemble import BaggingClassifier\n",
        "from sklearn.tree import DecisionTreeClassifier\n",
        "\n",
        "bag_clf = BaggingClassifier(DecisionTreeClassifier(),\n",
        "                            n_estimators=1000,\n",
        "                            max_samples=100,\n",
        "                            bootstrap=True)"
      ],
      "id": "1d663a4c",
      "execution_count": null,
      "outputs": []
    },
    {
      "cell_type": "markdown",
      "metadata": {},
      "source": [
        "In the above code, `bag_clf` is a bagging classifier, made of 500 `DecisionTreeClassifer`s, and is trained over subsets of size `100`. The option `bootstrap=True` means that it is bagging. If you would like to use pasting, the option is `bootstrap=False`.\n",
        "\n",
        "This `bag_clf` also has `.fit()` and `.predict()` methods. It is used the same as our previous classifiers. Let us try the `make_moon` dataset.\n"
      ],
      "id": "f8842ffb"
    },
    {
      "cell_type": "code",
      "metadata": {},
      "source": [
        "bag_clf.fit(X_train, y_train)\n",
        "y_pred_bag = bag_clf.predict(X_test)\n",
        "accuracy_score(y_pred_bag, y_test)"
      ],
      "id": "d97640f8",
      "execution_count": null,
      "outputs": []
    },
    {
      "cell_type": "markdown",
      "metadata": {},
      "source": [
        "### OOB score\n",
        "When we use `bagging`, it is possible that some of the training data are not used. In this case, we could record which data are not used, and just use them as the test set, instead of providing extra data for test. The data that are not used is called *out-of-bag* instances, or *oob* for short. The accuracy over the oob data is called the oob score.\n",
        "\n",
        "We could set `oob_score=True` to enable the function when creating a `BaggingClassifier`, and use `.oob_score_` to get the oob score after training. \n"
      ],
      "id": "f01dea3b"
    },
    {
      "cell_type": "code",
      "metadata": {},
      "source": [
        "bag_clf_oob = BaggingClassifier(DecisionTreeClassifier(),\n",
        "                                n_estimators=1000,\n",
        "                                max_samples=100,\n",
        "                                bootstrap=True,\n",
        "                                oob_score=True)\n",
        "bag_clf_oob.fit(X_train, y_train)\n",
        "bag_clf_oob.oob_score_"
      ],
      "id": "704fe80c",
      "execution_count": null,
      "outputs": []
    },
    {
      "cell_type": "markdown",
      "metadata": {},
      "source": [
        "### Random Forests\n",
        "When the classifiers used in a bagging classifier are all Decision Trees, the bagging classifier is called a `random forest`. `sklearn` provide `RandomForestClassifier` class. It is almost the same as `BaggingClassifier` + `DecisionTreeClassifer`.\n"
      ],
      "id": "94badaa1"
    },
    {
      "cell_type": "code",
      "metadata": {},
      "source": [
        "from sklearn.ensemble import RandomForestClassifier\n",
        "\n",
        "rnd_clf = RandomForestClassifier(n_estimators=1000, max_leaf_nodes=17)\n",
        "rnd_clf.fit(X_train, y_train)\n",
        "y_pred_rnd = rnd_clf.predict(X_test)\n",
        "accuracy_score(y_pred_rnd, y_test)"
      ],
      "id": "e1656d68",
      "execution_count": null,
      "outputs": []
    },
    {
      "cell_type": "markdown",
      "metadata": {},
      "source": [
        "When we use the Decision Tree as our base estimators, the class `RandomForestClassifier` provides more control over growing the random forest, with a certain optimizations. If you would like to use other estimators, then `BaggingClassifier` should be used.\n",
        "\n",
        "\n",
        "\n",
        "### Extra-trees\n",
        "When growing a Decision Tree, our method is to search through all possible ways to find the best split point that get the lowest Gini impurity. Anohter method is to use a random split. Of course a random tree performs much worse, but if we use it to form a random forest, the voting system can help to increase the accuracy. On the other hand, random split is much faster than a regular Decision Tree. \n",
        "\n",
        "This type of forest is called *Extremely Randomized Trees*, or *Extra-Trees* for short. We could modify the above random forest classifier code to implement the extra-tree algorithm. The key point is that we don't apply the Decision Tree algorithm to `X_subset`. Instead we perform a random split.\n"
      ],
      "id": "e5a31921"
    },
    {
      "cell_type": "code",
      "metadata": {},
      "source": [
        "n_trees = 500\n",
        "n_instances = 20\n",
        "rs = ShuffleSplit(n_splits=n_trees, test_size=1, train_size=n_instances).split(X_train)\n",
        "y_pred_list = list()\n",
        "acc_list = list()\n",
        "for mini_train_index, _ in rs:\n",
        "    X_subset = X_train[mini_train_index]\n",
        "    y_subset = y_train[mini_train_index]\n",
        "    clf_ind = DecisionTreeClassifier(max_depth=1)\n",
        "# random split\n",
        "    i = np.random.randint(0, X_subset.shape[0])\n",
        "    j = np.random.randint(0, X_subset.shape[1])\n",
        "    split_threshold = X_subset[i, j]\n",
        "    lsetindex = np.where(X_subset[:, j]<split_threshold)[0]\n",
        "\n",
        "    if len(lsetindex) == 0:\n",
        "        rsetindex = np.where(X_subset[:, j]>=split_threshold)\n",
        "        rmode, _ = mode(y_subset[rsetindex], keepdims=True)\n",
        "        rmode = rmode[0]\n",
        "        lmode = 1 - rmode\n",
        "    else:\n",
        "        lmode, _ = mode(y_subset[lsetindex], keepdims=True)\n",
        "        lmode = lmode[0]\n",
        "        rmode = 1 - lmode\n",
        "    y_pred = np.where(X_test[:, j] < split_threshold, lmode, rmode).reshape(-1)\n",
        "# The above code is used to use the random split to classify the data points\n",
        "    y_pred_list.append(y_pred)\n",
        "    acc_list.append(accuracy_score(y_pred, y_test))\n",
        "print('The mean of individual accuracy: {}'.format(np.mean(acc_list)))\n",
        "\n",
        "voting = np.array(y_pred_list)\n",
        "y_pred_mode, _ = mode(voting, axis=0, keepdims=False)\n",
        "print('The accuracy of the bagging classifier: {}'.format(accuracy_score(y_pred_mode, y_test)))"
      ],
      "id": "4467617c",
      "execution_count": null,
      "outputs": []
    },
    {
      "cell_type": "markdown",
      "metadata": {},
      "source": [
        "From the above example, you may find a significant increase in the performace from the mean individual accuracy to the Extra-tree classifier accuracy. The accuracy of the Extra-tree classifier is also very close to what we get from the original data points, although its base classifier is much simpler.\n",
        "\n",
        "\n",
        "In `sklearn` there is an `ExtraTreesClassifier` to create such a classifier. It is hard to say which random forest is better beforehand. What we can do is to test and calculate the cross-validation scores (with grid search for hyperparameters tuning).\n"
      ],
      "id": "1dfc9105"
    },
    {
      "cell_type": "code",
      "metadata": {},
      "source": [
        "from sklearn.ensemble import ExtraTreesClassifier\n",
        "\n",
        "ext_clf = ExtraTreesClassifier(n_estimators=1000, max_leaf_nodes=17)\n",
        "ext_clf.fit(X_train, y_train)\n",
        "y_pred_rnd = ext_clf.predict(X_test)\n",
        "accuracy_score(y_pred_rnd, y_test)"
      ],
      "id": "b52270ae",
      "execution_count": null,
      "outputs": []
    },
    {
      "cell_type": "markdown",
      "metadata": {},
      "source": [
        "In the above example, `RandomForestClassifier` and `ExtraTreesClassifier` get similar accuracy. However from the code below, you will see that in this example `ExtraTreesClassifier` is much faster than `RandomForestClassifier`.\n"
      ],
      "id": "7e32e914"
    },
    {
      "cell_type": "code",
      "metadata": {},
      "source": [
        "from time import time\n",
        "t0 = time()\n",
        "rnd_clf = RandomForestClassifier(n_estimators=1000, max_leaf_nodes=17)\n",
        "rnd_clf.fit(X_train, y_train)\n",
        "t1 = time()\n",
        "print('Random Frorest: {}'.format(t1 - t0))\n",
        "\n",
        "t0 = time()\n",
        "ext_clf = ExtraTreesClassifier(n_estimators=1000, max_leaf_nodes=17)\n",
        "ext_clf.fit(X_train, y_train)\n",
        "t1 = time()\n",
        "print('Extremely Randomized Trees: {}'.format(t1 - t0))"
      ],
      "id": "4bf7a0a3",
      "execution_count": null,
      "outputs": []
    },
    {
      "cell_type": "markdown",
      "metadata": {},
      "source": [
        "### Gini importance\n",
        "After training a Decision Tree, we could look at each node. Each split is against a feature, which decrease the Gini impurity the most. In other words, we could say that the feature is the most important during the split.\n",
        "\n",
        "Using the average Gini impurity decreased as a metric, we could measure the importance of each feature. This is called *Gini importance*. If the feature is useful, it tends to split mixed labeled nodes into pure single class nodes. \n",
        "\n",
        "In the case of random forest, since there are many trees, we might compute the weighted average of the Gini importance across all trees. The weight depends on how many times the feature is used in a specific node.\n",
        "\n",
        "Using `RandomForestClassifier`, we can directly get access to the Gini importance of each feature by `.feature_importance_`. Please see the following example.\n"
      ],
      "id": "2b3e6564"
    },
    {
      "cell_type": "code",
      "metadata": {},
      "source": [
        "rnd_clf.fit(X_train, y_train)\n",
        "rnd_clf.feature_importances_"
      ],
      "id": "39851d11",
      "execution_count": null,
      "outputs": []
    },
    {
      "cell_type": "markdown",
      "metadata": {},
      "source": [
        "In this example, you may see that the two features are relavely equally important, where the second feature is slightly more important since on average it decrease the Gini impurity a little bit more.\n",
        "\n",
        "## Voting machine\n",
        "\n",
        "\n",
        "### Voting classifier\n",
        "\n",
        "Assume that we have several trained classifiers. The easiest way to make a better classifer out of what we already have is to build a voting system. That is, each classifier give its own prediction, and it will be considered as a vote, and finally the highest vote will be the prediction of the system. \n",
        "\n",
        "In `sklearn`, you may use `VotingClassifier`. It works as follows.\n"
      ],
      "id": "d226d070"
    },
    {
      "cell_type": "code",
      "metadata": {},
      "source": [
        "from sklearn.ensemble import VotingClassifier\n",
        "from sklearn.neighbors import KNeighborsClassifier\n",
        "from sklearn.tree import DecisionTreeClassifier\n",
        "\n",
        "clfs = [('knn', KNeighborsClassifier(n_neighbors=5)),\n",
        "        ('dt', DecisionTreeClassifier(max_depth=2))]\n",
        "voting_clf = VotingClassifier(estimators=clfs, voting='hard')"
      ],
      "id": "8afc1d5e",
      "execution_count": null,
      "outputs": []
    },
    {
      "cell_type": "markdown",
      "metadata": {},
      "source": [
        "All classifiers are stored in the list `clfs`, whose elements are tuples. The syntax is very similar to `Pipeline`. What the classifier does is to train all listed classifiers and use the majority vote to predict the class of given test data. \n",
        "If each classifier has one vote, the voting method is `hard`. There is also a `soft` voting method. In this case, every classifiers not only can predict the classes of the given data, but also estimiate the probability of the given data that belongs to certain classes. On coding level, each classifier should have the `predict_proba()` method. In this case, the weight of each vote is determined by the probability computed. In our course we mainly use `hard` voting.\n",
        "\n",
        "Let us use `make_moon` as an example. We first load the dataset.\n"
      ],
      "id": "70adfcdb"
    },
    {
      "cell_type": "code",
      "metadata": {},
      "source": [
        "from sklearn.datasets import make_moons\n",
        "from sklearn.model_selection import train_test_split\n",
        "\n",
        "X, y = make_moons(n_samples=10000, noise=0.4, random_state=42)\n",
        "X_train, X_test, y_train, y_test = train_test_split(X, y, test_size=0.15)"
      ],
      "id": "8b8d5679",
      "execution_count": null,
      "outputs": []
    },
    {
      "cell_type": "markdown",
      "metadata": {},
      "source": [
        "We would like to apply kNN model. As before, we build a data pipeline `pipe` to first apply `MinMaxScaler` and then `KNeighborsClassifier`.\n"
      ],
      "id": "27aaecfd"
    },
    {
      "cell_type": "code",
      "metadata": {},
      "source": [
        "from sklearn.neighbors import KNeighborsClassifier\n",
        "from sklearn.preprocessing import MinMaxScaler\n",
        "from sklearn.pipeline import Pipeline\n",
        "from sklearn.model_selection import GridSearchCV\n",
        "\n",
        "pipe = Pipeline(steps=[('scalar', MinMaxScaler()),\n",
        "                       ('knn', KNeighborsClassifier())])\n",
        "parameters = {'knn__n_neighbors': list(range(1, 51))}\n",
        "gs_knn = GridSearchCV(pipe, param_grid=parameters) \n",
        "gs_knn.fit(X_train, y_train)\n",
        "clf_knn = gs_knn.best_estimator_\n",
        "clf_knn.score(X_test, y_test)"
      ],
      "id": "678b566d",
      "execution_count": null,
      "outputs": []
    },
    {
      "cell_type": "markdown",
      "metadata": {},
      "source": [
        "The resulted accuracy is shown above.\n",
        "\n",
        "\n",
        "\n",
        "\n",
        "We then try it with the Decision Tree.\n"
      ],
      "id": "23c0ab7c"
    },
    {
      "cell_type": "code",
      "metadata": {},
      "source": [
        "from sklearn.tree import DecisionTreeClassifier\n",
        "\n",
        "gs_dt = GridSearchCV(DecisionTreeClassifier(), param_grid={'max_depth': list(range(1, 11)), 'max_leaf_nodes': list(range(10, 30))})\n",
        "gs_dt.fit(X_train, y_train)\n",
        "clf_dt = gs_dt.best_estimator_\n",
        "clf_dt.score(X_test, y_test)"
      ],
      "id": "b8d982c5",
      "execution_count": null,
      "outputs": []
    },
    {
      "cell_type": "markdown",
      "metadata": {},
      "source": [
        "We would also want to try Logistic regression method. This will be covered in the next Chapter. At current stage we just use the default setting without changing any hyperparameters.\n"
      ],
      "id": "dd24923e"
    },
    {
      "cell_type": "code",
      "metadata": {},
      "source": [
        "from sklearn.linear_model import LogisticRegression\n",
        "clf_lr = LogisticRegression()\n",
        "clf_lr.fit(X_train, y_train)\n",
        "clf_lr.score(X_test, y_test)"
      ],
      "id": "feb08d6c",
      "execution_count": null,
      "outputs": []
    },
    {
      "cell_type": "markdown",
      "metadata": {},
      "source": [
        "Now we use a voting classifier to combine the results.\n"
      ],
      "id": "22c3b48f"
    },
    {
      "cell_type": "code",
      "metadata": {},
      "source": [
        "from sklearn.ensemble import VotingClassifier\n",
        "from sklearn.ensemble import RandomForestClassifier\n",
        "from sklearn.svm import SVC\n",
        "clfs = [('knn', KNeighborsClassifier()),\n",
        "        ('dt', DecisionTreeClassifier()),\n",
        "        ('lr', LogisticRegression())]\n",
        "voting_clf = VotingClassifier(estimators=clfs, voting='hard')\n",
        "voting_clf.fit(X_train, y_train)\n",
        "voting_clf.score(X_test, y_test)"
      ],
      "id": "b748926a",
      "execution_count": null,
      "outputs": []
    },
    {
      "cell_type": "markdown",
      "metadata": {},
      "source": [
        "You may compare the results of all these four classifiers. The voting classifier is not guaranteed to be better. It is just a way to form a model.\n",
        "\n",
        "## `AdaBoost`\n",
        "\n",
        "This is the first algorithm that successfully implements the boosting idea. `AdaBoost` is short for *Adaptive Boosting*. \n",
        "\n",
        "### Weighted dataset\n",
        "We firstly talk about training a Decision Tree on a weighted dataset. The idea is very simple. When building a Decision Tree, we use some method to determine the split. In this course the Gini impurity is used. There are at least two other methods: cross-entropy and misclassified rate. For all three, the count of the elemnts in some classes is the essnetial part. To train the model over the weighted dataset, we just need to upgrade the count of the elements by the weighted count. \n",
        "\n",
        "\n",
        "\n",
        "\n",
        "\n",
        "\n",
        "::: {#exm-}\n",
        "Consider the following data:"
      ],
      "id": "0fa0a749"
    },
    {
      "cell_type": "code",
      "metadata": {},
      "source": [
        "#| echo: false\n",
        "\n",
        "import pandas as pd\n",
        "name = ['x0', 'x1', 'y', 'Weight']\n",
        "data = [['1.0', '2.1', '+', '0.5'],\n",
        "        ['1.0', '1.1', '+', '0.125'],\n",
        "        ['1.3', '1.0', '-', '0.125'],\n",
        "        ['1.0', '1.0', '-', '0.125'],\n",
        "        ['2.0', '1.0', '+', '0.125']]\n",
        "df = pd.DataFrame(data, columns=name)\n",
        "df.style.hide(axis='index')"
      ],
      "id": "5457b357",
      "execution_count": null,
      "outputs": []
    },
    {
      "cell_type": "markdown",
      "metadata": {},
      "source": [
        "The weighted Gini impurity is\n",
        "\n",
        "$$\n",
        "\\text{WeightedGini}=1-(0.5+0.125+0.125)^2-(0.125+0.125)^2=0.375.\n",
        "$$\n",
        "\n",
        "You may see that the original Gini impurity is just the weighted Gini impurity with equal weights. Therefore the first tree we get from `AdaBoost` (see below) is the same tree we get from the Decision Tree model in Chpater 3.\n",
        ":::\n",
        "\n",
        "### General process\n",
        "\n",
        "Here is the rough description of `AdaBoost`.\n",
        "\n",
        "1. Assign weights to each data point. At the begining we could assign weights equally. \n",
        "2. Train a classifier based on the weighted dataset, and use it to predict on the training set. Find out all wrong answers.\n",
        "3. Adjust the weights, by inceasing the weights of data points that are done wrongly in the previous generation.\n",
        "4. Train a new classifier using the new weighted dataset. Predict on the training set and record the wrong answers. \n",
        "5. Repeat the above process to get many classifiers. The training stops either by hitting $0$ error rate, or after a specific number of rounds.\n",
        "6. The final results is based on the weighted total votes from all classifiers we trained.\n",
        "\n",
        "Now let us talk about the details. Assume there are $N$ data points. Then the inital weights are set to be $\\dfrac1N$. There are 2 sets of weights. Let $w^{(i)}$ be weights of the $i$th data points. Let $\\alpha_j$ be the weights of the $j$th classifier. After training the $j$th classifier, the error rate is denoted by $e_j$. Then we have \n",
        "\n",
        "$$\n",
        "e_j=\\frac{\\text{the total weights of data points that are misclassified by the $j$th classifier}}{\\text{the total weights of data points}}\n",
        "$$\n",
        "\n",
        "$$\n",
        "\\alpha_j=\\eta\\ln\\left(\\dfrac{1-e_j}{e_j}\\right).\n",
        "$$\n",
        "\n",
        "$$\n",
        "w^{(i)}_{\\text{new}}\\leftarrow\\text{normalization} \\leftarrow w^{(i)}\\leftarrow\\begin{cases}w^{(i)}&\\text{if the $i$th data is correctly classified,}\\\\w^{(i)}\\exp(\\alpha_j)&\\text{if the $i$th data is misclassified.}\\end{cases}\n",
        "$$\n",
        "\n",
        "\n",
        "\n",
        "::: {.callout-note}\n",
        "\n",
        "The first tree is the same tree we get from the regular Decision Tree model. In the rest of the training process, more weights are put on the data that we are wrong in the previous iteration. Therefore the process is the mimic of \"learning from mistakes\".\n",
        ":::\n",
        "\n",
        "\n",
        "::: {.callout-note}\n",
        "The $\\eta$ in computing $\\alpha_j$ is called the *learning rate*. It is a hyperparameter that will be specified mannually. It does exactly what it appears to do: alter the weights of each classifier. The default is `1.0`. When the number is very small (which is recommended although it can be any positive number), more iterations will be expected. \n",
        ":::\n",
        "\n",
        "### Example 1: the `iris` dataset\n",
        "Similar to all previous models, `sklearn` provides `AdaBoostClassifier`. The way to use it is similar to previous models. Note that although we are able to use any classifiers for `AdaBoost`, the most popular choice is Decision Tree with `max_depth=1`. This type of Decision Trees are also called *Decision Stumps*.\n",
        "\n",
        "In the following examples, we initialize an `AdaBoostClassifier` with 500 Decision Stumps and `learning_rate=0.5`. \n"
      ],
      "id": "9ab51950"
    },
    {
      "cell_type": "code",
      "metadata": {},
      "source": [
        "from sklearn.tree import DecisionTreeClassifier\n",
        "from sklearn.ensemble import AdaBoostClassifier\n",
        "\n",
        "ada_clf = AdaBoostClassifier(DecisionTreeClassifier(max_depth=1), n_estimators=1000,\n",
        "                             learning_rate=.5)"
      ],
      "id": "f0145327",
      "execution_count": null,
      "outputs": []
    },
    {
      "cell_type": "markdown",
      "metadata": {},
      "source": [
        "We will use the `iris` dataset for illustration. The cross_val_score is calculated as follows.\n"
      ],
      "id": "ae12e218"
    },
    {
      "cell_type": "code",
      "metadata": {},
      "source": [
        "from sklearn.model_selection import cross_val_score\n",
        "from sklearn.datasets import load_iris\n",
        "\n",
        "X, y = load_iris(return_X_y=True)\n",
        "scores = cross_val_score(ada_clf, X, y, cv=5)\n",
        "scores.mean()"
      ],
      "id": "acda96e8",
      "execution_count": null,
      "outputs": []
    },
    {
      "cell_type": "markdown",
      "metadata": {},
      "source": [
        "### Example 2: the Horse Colic dataset\n",
        "This dataset is from UCI Machine Learning Repository. The data is about whether horses survive if they get a disease called Colic. The dataset is preprocessed as follows. Note that there are a few missing values inside, and we replace them with `0`. \n"
      ],
      "id": "b3bbda04"
    },
    {
      "cell_type": "code",
      "metadata": {},
      "source": [
        "import pandas as pd\n",
        "import numpy as np\n",
        "from sklearn.model_selection import train_test_split\n",
        "\n",
        "url = 'http://archive.ics.uci.edu/ml/machine-learning-databases/horse-colic/horse-colic.data'\n",
        "df = pd.read_csv(url, delim_whitespace=True, header=None)\n",
        "df = df.replace(\"?\", np.NaN)\n",
        "df = df.fillna(0)\n",
        "X = df.iloc[:, 1:].to_numpy().astype(float)\n",
        "y = df[0].to_numpy().astype(int)\n",
        "X_train, X_test, y_train, y_test = train_test_split(X, y, test_size=0.15)\n",
        "\n",
        "clf = AdaBoostClassifier(DecisionTreeClassifier(max_depth=1), n_estimators=50, learning_rate=0.2)\n",
        "clf.fit(X_train, y_train)\n",
        "clf.score(X_test, y_test)"
      ],
      "id": "3eb0baab",
      "execution_count": null,
      "outputs": []
    },
    {
      "cell_type": "markdown",
      "metadata": {},
      "source": [
        "## Exercises\n",
        "\n",
        "\n",
        "\n",
        "::: {#exr-}\n",
        "CHOOSE ONE: Please apply the random forest to one of the following datasets.\n",
        "\n",
        "- the `iris` dataset.\n",
        "- the dating dataset.\n",
        "- the `titanic` dataset.\n",
        "\n",
        "Please answer the following questions.\n",
        "\n",
        "1. Please use grid search to find the good `max_leaf_nodes` and `max_depth`.\n",
        "2. Please record the cross-validation score and the OOB score of your model and compare it with the models you learned before (kNN, Decision Trees). \n",
        "3. Please find some typical features (using the Gini importance) and draw the Decision Boundary against the features you choose. \n",
        ":::\n",
        "\n",
        "\n",
        "\n",
        "\n",
        "\n",
        "::: {#exr-}\n",
        "\n",
        "Please use the following code to get the `mgq` dataset."
      ],
      "id": "e5bd9b1f"
    },
    {
      "cell_type": "code",
      "metadata": {},
      "source": [
        "from sklearn.datasets import make_gaussian_quantiles\n",
        "\n",
        "X1, y1 = make_gaussian_quantiles(cov=2.0, n_samples=200, n_features=2,\n",
        "                                 n_classes=2, random_state=1)\n",
        "X2, y2 = make_gaussian_quantiles(mean=(3, 3), cov=1.5, n_samples=300,\n",
        "                                 n_features=2, n_classes=2, random_state=1)\n",
        "X = np.concatenate((X1, X2))\n",
        "y = np.concatenate((y1, -y2 + 1))"
      ],
      "id": "9456d1fc",
      "execution_count": null,
      "outputs": []
    },
    {
      "cell_type": "markdown",
      "metadata": {},
      "source": [
        "Please build an `AdaBoost` model.\n",
        ":::\n",
        "\n",
        "\n",
        "::: {#exr-}\n",
        "\n",
        "Please use `RandomForestClassifier`, `ExtraTreesClassifier` and `KNeighbourClassifier` to form a voting classifier, and apply to the `MNIST` dataset. \n",
        "\n",
        "\n",
        ":::\n",
        "\n",
        "\n",
        "\n",
        "::: {.callout-note}\n",
        "# `MNIST`\n",
        "\n",
        "This dataset can be loaded using the following code."
      ],
      "id": "c3d93401"
    },
    {
      "cell_type": "code",
      "metadata": {},
      "source": [
        "#| eval: false\n",
        "import numpy as np\n",
        "import requests\n",
        "from io import BytesIO\n",
        "r = requests.get('https://storage.googleapis.com/tensorflow/tf-keras-datasets/mnist.npz', stream = True) \n",
        "data = np.load(BytesIO(r.raw.read()))\n",
        "X_train = data['x_train']\n",
        "X_test = data['x_test']\n",
        "y_train = data['y_train']\n",
        "y_test = data['y_test']"
      ],
      "id": "eff7bfa1",
      "execution_count": null,
      "outputs": []
    },
    {
      "cell_type": "markdown",
      "metadata": {},
      "source": [
        ":::\n"
      ],
      "id": "4b1f3b96"
    }
  ],
  "metadata": {
    "kernelspec": {
      "name": "ds24",
      "language": "python",
      "display_name": "ds24"
    }
  },
  "nbformat": 4,
  "nbformat_minor": 5
}