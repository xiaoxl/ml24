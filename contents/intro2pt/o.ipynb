{
 "cells": [
  {
   "cell_type": "code",
   "execution_count": 17,
   "metadata": {},
   "outputs": [],
   "source": [
    "import torch\n",
    "import numpy as np\n",
    "import time\n",
    "\n",
    "# class LogMessanger(object):\n",
    "#     \"\"\"Computes and stores the average and current value\"\"\"\n",
    "#     def __init__(self):\n",
    "#         self.value = 0\n",
    "#         self.avg = 0\n",
    "#         self.sum = 0\n",
    "#         self.count = 0\n",
    "\n",
    "#     def update(self, avg_value_for_n, n=1):\n",
    "#         self.value = avg_value_for_n\n",
    "#         self.sum += avg_value_for_n * n\n",
    "#         self.count += n\n",
    "#         self.avg = self.sum / self.count\n",
    "\n",
    "class CustomLogger(object):\n",
    "    def __init__(self):\n",
    "        self.losses = []\n",
    "        self.deltatime = []\n",
    "        \n",
    "    def update(self, model, loss_fn, X, y, deltat=0):\n",
    "        yhat = model(X)\n",
    "        loss = loss_fn(yhat, y)\n",
    "        self.losses.append(loss.item())\n",
    "        self.deltatime.append(deltat)\n",
    "\n",
    "    def output(self):\n",
    "        res = f'loss {np.mean(self.losses)}'\n",
    "        print(res)\n",
    "        return res\n",
    "\n",
    "\n",
    "class MyLogger(CustomLogger):\n",
    "    def __init__(self):\n",
    "        super().__init__()\n",
    "        self.p = []\n",
    "    \n",
    "    def update(self, model, loss_fn, X, y, deltat=0):\n",
    "        super().update(model, loss_fn, X, y, deltat)\n",
    "        p = model.state_dict()\n",
    "        self.p.append([p['linear.bias'].item(), p['linear.weight'].item()])\n",
    "\n",
    "    def output(self):\n",
    "        super().output()\n",
    "\n",
    "\n",
    "class ModelTemplete():\n",
    "    def __init__(self, model, loss_fn, optimizer, logger=None):\n",
    "        self.model = model\n",
    "        self.loss_fn = loss_fn\n",
    "        self.optimizer = optimizer\n",
    "        self.device = 'cuda' if torch.cuda.is_available() else 'cpu'\n",
    "        self.model.to(self.device)\n",
    "        self.train_loader = None\n",
    "        self.val_loader = None\n",
    "        self.logger = logger\n",
    "\n",
    "    def set_loaders(self, train_loader, val_loader=None):\n",
    "        self.train_loader = train_loader\n",
    "        self.val_loader = val_loader\n",
    "\n",
    "    def set_logger(self, msg):\n",
    "        self.logger = msg\n",
    "\n",
    "    # def _train_once(self):\n",
    "    #     def _train_one_step(X, y):\n",
    "    #         self.model.train()\n",
    "    #         yhat = self.model(X)\n",
    "    #         loss = self.loss_fn(yhat, y)\n",
    "    #         loss.backward()\n",
    "    #         self.optimizer.step()\n",
    "    #         self.optimizer.zero_grad()\n",
    "    #         return loss.item()\n",
    "    #     return _train_one_step\n",
    "\n",
    "    # def _eval_once(self):\n",
    "    #     def _eval_one_step(X, y):\n",
    "    #         self.model.eval()\n",
    "    #         yhat = self.model(X)\n",
    "    #         loss = self.loss_fn(yhat, y)\n",
    "    #         return loss.item()\n",
    "    #     return _eval_one_step\n",
    "    \n",
    "    def _train_minibatch_once(self):\n",
    "        self.model.train()\n",
    "        for i, (X_batch, y_batch) in enumerate(self.train_loader):\n",
    "            start_time = time.time()\n",
    "            X_batch = X_batch.to(self.device)\n",
    "            y_batch = y_batch.to(self.device)\n",
    "            yhat = self.model(X_batch)\n",
    "            loss = self.loss_fn(yhat, y_batch)\n",
    "            loss.backward()\n",
    "            self.optimizer.step()\n",
    "            self.optimizer.zero_grad()\n",
    "            end_time = time.time()\n",
    "            self.logger.update(self.model, self.loss_fn, X_batch, y_batch, deltat = end_time-start_time)\n",
    "        #     losses.append(mini_batch_loss)\n",
    "        # loss = np.mean(losses)\n",
    "        return loss\n",
    "\n",
    "    def train(self, train_loader, epoch_num=10):\n",
    "        self.model.train()\n",
    "        self.set_loaders(train_loader)\n",
    "        for epoch in range(epoch_num):\n",
    "            _ = self._train_minibatch_once()\n",
    "            p = self.model.state_dict()\n",
    "            plist.append([p['linear.bias'].item(), p['linear.weight'].item()])\n",
    "        plist = np.array(plist)\n",
    "        return plist\n",
    "\n",
    "\n",
    "def train_one_epoch(model, loss_fn, optimizer, dataloader):\n",
    "        model.train()\n",
    "        loss_log = 0\n",
    "        for X_batch, y_batch in dataloader:\n",
    "            yhat = model(X_batch.reshape(-1, 1))\n",
    "            loss = loss_fn(yhat, y_batch.reshape(-1, 1))\n",
    "            loss.backward()\n",
    "            optimizer.step()\n",
    "            optimizer.zero_grad()\n",
    "            loss_log += loss.item() * y_batch.size(0)\n",
    "        return loss_log/len(dataloader.dataset)"
   ]
  },
  {
   "cell_type": "code",
   "execution_count": 2,
   "metadata": {},
   "outputs": [],
   "source": [
    "import numpy as np\n",
    "\n",
    "RANDOMSEED = 42\n",
    "np.random.seed(RANDOMSEED)\n",
    "X = np.random.rand(100)\n",
    "y = 2.3 + 1.2 * X + np.random.randn(100) * 0.1\n",
    "\n",
    "from sklearn.model_selection import train_test_split\n",
    "\n",
    "X_train, X_test, y_train, y_test = train_test_split(X, y, test_size=.15,\n",
    "                                                    random_state=RANDOMSEED)"
   ]
  },
  {
   "cell_type": "code",
   "execution_count": 6,
   "metadata": {},
   "outputs": [],
   "source": [
    "from torch.nn.modules import Linear\n",
    "from torch.nn import MSELoss\n",
    "import torch.nn as nn\n",
    "from torch.optim import SGD\n",
    "\n",
    "class BetterLR(nn.Module):\n",
    "    def __init__(self, *args, **kwargs) -> None:\n",
    "        super().__init__(*args, **kwargs)\n",
    "\n",
    "        self.linear = Linear(in_features=1, out_features=1)\n",
    "        self.linear.bias = torch.nn.Parameter(torch.tensor([1.0], dtype=float))\n",
    "        self.linear.weight = torch.nn.Parameter(torch.tensor([[1.5]], dtype=float))\n",
    "\n",
    "    def forward(self, x):\n",
    "        return self.linear(x)"
   ]
  },
  {
   "cell_type": "code",
   "execution_count": 4,
   "metadata": {},
   "outputs": [
    {
     "data": {
      "text/plain": [
       "[[1.8277028504755573, 1.8368193572906044],\n",
       " [1.9607104449826838, 1.8293981130981023],\n",
       " [2.001626059409397, 1.7815077539441087],\n",
       " [2.0286935704191, 1.7321715193480243],\n",
       " [2.0522055690695757, 1.686138097785071],\n",
       " [2.0736381185747943, 1.6437403254745735],\n",
       " [2.0933134526016604, 1.6047617600958677],\n",
       " [2.111393711486754, 1.5689357968513453],\n",
       " [2.1280105514943686, 1.5360086358936902],\n",
       " [2.143282725696795, 1.505745878510758]]"
      ]
     },
     "execution_count": 4,
     "metadata": {},
     "output_type": "execute_result"
    }
   ],
   "source": [
    "from torch.utils.data import Dataset, TensorDataset\n",
    "\n",
    "class MyData(Dataset):\n",
    "    def __init__(self, x, y):\n",
    "        self.x = torch.tensor(x, dtype=float).reshape(-1, 1)\n",
    "        self.y = torch.tensor(y, dtype=float).reshape(-1, 1)\n",
    "\n",
    "    def __getitem__(self, index):\n",
    "        return (self.x[index], self.y[index])\n",
    "\n",
    "    def __len__(self):\n",
    "        return len(self.y)\n",
    "    \n",
    "from torch.utils.data import DataLoader \n",
    "\n",
    "train_data = MyData(X_train, y_train)\n",
    "\n",
    "lr = 0.2\n",
    "epoch_num = 10\n",
    "\n",
    "device = 'cuda' if torch.cuda.is_available() else 'cpu'\n",
    "model = BetterLR().to(device)\n",
    "optimizer = SGD(model.parameters(), lr=lr)\n",
    "\n",
    "train_loader = DataLoader(dataset=train_data, batch_size=32, shuffle=False)\n",
    "\n",
    "plist = []\n",
    "for epoch in range(epoch_num):\n",
    "    for X_batch, y_batch in train_loader:\n",
    "        yhat = model(X_batch)\n",
    "        loss = MSELoss(reduction='mean')(yhat, y_batch)\n",
    "        loss.backward()\n",
    "        optimizer.step()\n",
    "        optimizer.zero_grad()\n",
    "    p= model.state_dict()\n",
    "    plist.append([p['linear.bias'].item(), p['linear.weight'].item()])\n",
    "plist\n"
   ]
  },
  {
   "cell_type": "code",
   "execution_count": 19,
   "metadata": {},
   "outputs": [
    {
     "data": {
      "text/plain": [
       "array([[1.82770285, 1.83681936],\n",
       "       [1.96071044, 1.82939811],\n",
       "       [2.00162606, 1.78150775],\n",
       "       [2.02869357, 1.73217152],\n",
       "       [2.05220557, 1.6861381 ],\n",
       "       [2.07363812, 1.64374033],\n",
       "       [2.09331345, 1.60476176],\n",
       "       [2.11139371, 1.5689358 ],\n",
       "       [2.12801055, 1.53600864],\n",
       "       [2.14328273, 1.50574588]])"
      ]
     },
     "execution_count": 19,
     "metadata": {},
     "output_type": "execute_result"
    }
   ],
   "source": [
    "\n",
    "lr = 0.2\n",
    "model = BetterLR().to(device)\n",
    "optimizer = SGD(model.parameters(), lr=lr)\n",
    "\n",
    "msg = MyLogger()\n",
    "mm = ModelTemplete(model, MSELoss(reduction='mean'), optimizer, msg)\n",
    "\n",
    "plist= mm.train(train_loader)\n",
    "plist"
   ]
  },
  {
   "cell_type": "code",
   "execution_count": 12,
   "metadata": {},
   "outputs": [
    {
     "data": {
      "text/plain": [
       "<__main__.MyLogger at 0x1758c1c1d00>"
      ]
     },
     "execution_count": 12,
     "metadata": {},
     "output_type": "execute_result"
    }
   ],
   "source": [
    "msg"
   ]
  },
  {
   "cell_type": "code",
   "execution_count": 20,
   "metadata": {},
   "outputs": [
    {
     "data": {
      "text/plain": [
       "[[1.4592897136116971, 1.7077316274780026],\n",
       " [1.7044490155760934, 1.7947310020972977],\n",
       " [1.8277028504755573, 1.8368193572906044],\n",
       " [1.8909203007898212, 1.8402628949865438],\n",
       " [1.9407059634895623, 1.8393113070683942],\n",
       " [1.9607104449826838, 1.8293981130981023],\n",
       " [1.9721568268405247, 1.808159321590578],\n",
       " [1.9949517748218504, 1.7966599019140075],\n",
       " [2.001626059409397, 1.7815077539441087],\n",
       " [2.0059469002246373, 1.7587124028857222],\n",
       " [2.023703089590172, 1.7466251734420466],\n",
       " [2.0286935704191, 1.7321715193480243],\n",
       " [2.031707101072717, 1.7106830383163631],\n",
       " [2.047393452747219, 1.6992354308697957],\n",
       " [2.0522055690695757, 1.686138097785071],\n",
       " [2.054696698804196, 1.6662054120350336],\n",
       " [2.0688125374860906, 1.6554985363101928],\n",
       " [2.0736381185747943, 1.6437403254745735],\n",
       " [2.07573710879244, 1.6252834946918484],\n",
       " [2.0884525122952433, 1.6152772174641685],\n",
       " [2.0933134526016604, 1.6047617600958677],\n",
       " [2.0950634349581234, 1.5876673135589225],\n",
       " [2.106497295311565, 1.5783075093083911],\n",
       " [2.111393711486754, 1.5689357968513453],\n",
       " [2.1128244043459152, 1.553094263355508],\n",
       " [2.1230811442944497, 1.544328952692152],\n",
       " [2.1280105514943686, 1.5360086358936902],\n",
       " [2.1291479827724533, 1.5213187310721403],\n",
       " [2.1383229470802148, 1.5130998513215075],\n",
       " [2.143282725696795, 1.505745878510758]]"
      ]
     },
     "execution_count": 20,
     "metadata": {},
     "output_type": "execute_result"
    }
   ],
   "source": [
    "msg.p\n"
   ]
  },
  {
   "cell_type": "code",
   "execution_count": null,
   "metadata": {},
   "outputs": [],
   "source": []
  }
 ],
 "metadata": {
  "kernelspec": {
   "display_name": "ds25",
   "language": "python",
   "name": "python3"
  },
  "language_info": {
   "codemirror_mode": {
    "name": "ipython",
    "version": 3
   },
   "file_extension": ".py",
   "mimetype": "text/x-python",
   "name": "python",
   "nbconvert_exporter": "python",
   "pygments_lexer": "ipython3",
   "version": "3.12.4"
  }
 },
 "nbformat": 4,
 "nbformat_minor": 2
}
